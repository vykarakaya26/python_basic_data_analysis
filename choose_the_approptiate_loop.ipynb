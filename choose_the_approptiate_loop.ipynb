{
 "cells": [
  {
   "attachments": {},
   "cell_type": "markdown",
   "metadata": {},
   "source": [
    "# Choose the Appropriate Loop\n"
   ]
  },
  {
   "attachments": {},
   "cell_type": "markdown",
   "metadata": {},
   "source": [
    "In programming, a loop is a structure that lets you repeat one or more statements, without having to rewrite them each time. Th"
   ]
  },
  {
   "attachments": {},
   "cell_type": "markdown",
   "metadata": {},
   "source": [
    "### Loop a Set Number of Times With the for Loop"
   ]
  },
  {
   "attachments": {},
   "cell_type": "markdown",
   "metadata": {},
   "source": [
    "###### For loops are used when you know in advance how many times an action will be repeated.\n",
    "\n",
    "###### However, unlike most other languages, in Python a for loop will necessarily iterate through a collection (list, dictionary, string, etc.)."
   ]
  },
  {
   "attachments": {},
   "cell_type": "markdown",
   "metadata": {},
   "source": [
    "##### The for Loop on a Collection\n",
    "\n"
   ]
  },
  {
   "attachments": {},
   "cell_type": "markdown",
   "metadata": {},
   "source": [
    "###### The conventional use of loops in Python is to directly use the different values of a collection"
   ]
  },
  {
   "cell_type": "code",
   "execution_count": 1,
   "metadata": {},
   "outputs": [
    {
     "name": "stdout",
     "output_type": "stream",
     "text": [
      "7\n",
      "2\n",
      "4\n",
      "10\n"
     ]
    }
   ],
   "source": [
    "myList = [7, 2, 4 ,10]\n",
    "\n",
    "for i in myList:\n",
    "    print(i)"
   ]
  },
  {
   "attachments": {},
   "cell_type": "markdown",
   "metadata": {},
   "source": [
    "The printed result corresponds to each item in the list taken one by one. Let's take a detailed look at what has been achieved in the above code:\n",
    "1. You have created a list: myList, containing four items: 7, 2, 4, and 10.\n",
    "2. The loop will store the first value of the list (in this case 7) in the i variable.\n",
    "3. hen, the whole block of code associated with the for loop (defined via indentation... again!) is run with i holding the first value. Here, this block just involves printing i.\n",
    "4. Once this is done, i will take the second value of the list (in this case 2) and the block of code is re-run.\n",
    "5. The loop will continue until all the values in your list have been stored in the i variable and the statements for the loop have been executed for each of them.\n"
   ]
  },
  {
   "attachments": {},
   "cell_type": "markdown",
   "metadata": {},
   "source": [
    "###### You can also iterate via a string! Remember that strings are also known as \"character strings\" because they represent a collection of characters, similar to a list.\n",
    "\n"
   ]
  },
  {
   "cell_type": "code",
   "execution_count": 2,
   "metadata": {},
   "outputs": [
    {
     "name": "stdout",
     "output_type": "stream",
     "text": [
      "I\n",
      "t\n",
      "e\n",
      "m\n",
      "s\n"
     ]
    }
   ],
   "source": [
    "myStr = 'Items'\n",
    "for i in myStr:\n",
    "    print(i)"
   ]
  },
  {
   "attachments": {},
   "cell_type": "markdown",
   "metadata": {},
   "source": [
    "##### The for Loop via an Iterative Integer Value\n",
    "\n"
   ]
  },
  {
   "attachments": {},
   "cell_type": "markdown",
   "metadata": {},
   "source": [
    "###### Python wants to loop over a collection, you need to create a collection containing your range of integer values\n",
    "###### To do this, you will use the   range(start, stop, step)  function, which will generate a collection of numbers according to three parameters:\n",
    "- start: the first number of the sequence\n",
    "- stop: corresponds to the last number of the sequence, non-inclusive. The function will generate numbers from start to stop-1\n",
    "- step: the step between each generated number"
   ]
  },
  {
   "cell_type": "code",
   "execution_count": 3,
   "metadata": {},
   "outputs": [
    {
     "name": "stdout",
     "output_type": "stream",
     "text": [
      "0\n",
      "1\n",
      "2\n",
      "3\n",
      "4\n",
      "0\n",
      "1\n",
      "2\n",
      "3\n",
      "4\n",
      "0\n",
      "1\n",
      "2\n",
      "3\n",
      "4\n",
      "0\n",
      "2\n",
      "4\n"
     ]
    }
   ],
   "source": [
    "for i in range(0, 5, 1):\n",
    "    print(i) # -> print from 0 to 4 by steps of 1 (end - 1)\n",
    "\n",
    "for i in range(0, 5):\n",
    "    print(i) # -> prints from 0 to 4 also (default step is 1)\n",
    "\n",
    "for i in range(5):\n",
    "    print(i) # -> prints from 0 to 4 also (default start is 0)\n",
    "\n",
    "for i in range(0, 5, 2):\n",
    "    print(i) # -> print 0, 2 then "
   ]
  },
  {
   "attachments": {},
   "cell_type": "markdown",
   "metadata": {},
   "source": [
    "### Loop According to a Condition with the while Loop"
   ]
  },
  {
   "attachments": {},
   "cell_type": "markdown",
   "metadata": {},
   "source": [
    "###### The conditional loop is the while loop in Python.\n",
    "\n",
    "###### As its name implies, the while loop will run as long as a condition is met. It is a kind of combination of a for loop and an if structure. The number of repetitions is not defined in advance, but via a condition to be fulfilled, as with an if. This is called a conditional loop.\n",
    "\n"
   ]
  },
  {
   "attachments": {},
   "cell_type": "markdown",
   "metadata": {},
   "source": [
    "while expressionLogic:\n",
    "\n",
    "        block to execute\n",
    "    \n",
    "###### how it works?\n",
    "1. The program checks that expressionLogic is equal to True.\n",
    "2. If this is the case, the indented statements following the : are run. Once this is done, we return to step one.\n",
    "3. Otherwise, the program exits the loop without running the statements.\n",
    "\n"
   ]
  },
  {
   "cell_type": "code",
   "execution_count": 4,
   "metadata": {},
   "outputs": [
    {
     "name": "stdout",
     "output_type": "stream",
     "text": [
      "I planted 1 trees\n",
      "I planted 2 trees\n",
      "I planted 3 trees\n",
      "I planted 4 trees\n",
      "I planted 5 trees\n",
      "I planted 6 trees\n",
      "I planted 7 trees\n",
      "I planted 8 trees\n",
      "I planted 9 trees\n",
      "I planted 10 trees\n",
      "I have a nice forest!\n"
     ]
    }
   ],
   "source": [
    "numberTrees = 0\n",
    "\n",
    "while numberTrees < 10:\n",
    "    numberTrees += 1\n",
    "    print(\"I planted\", numberTrees, \"trees\")\n",
    "\n",
    "print(\"I have a nice forest!\")"
   ]
  },
  {
   "attachments": {},
   "cell_type": "markdown",
   "metadata": {},
   "source": [
    "❗️ It is essential to keep in mind that a misused while loop can crash your program! ☠️ While the condition is still true, the program remains stuck in a loop. If the condition never becomes false, the program will never exit the loop.  We are in what is called, in programming, an infinite loop.\n"
   ]
  },
  {
   "attachments": {},
   "cell_type": "markdown",
   "metadata": {},
   "source": [
    "`theSunIsShining = True`\n",
    "\n",
    "`while theSunIsShining:` \n",
    "\n",
    "        print(\"Stay awake... forever!\")\n",
    "###### the theSunIsShining never changes, so the condition is always true\n",
    "###### so we never reach this line\n",
    "`print(\"Time to go to sleep!\")`\n"
   ]
  },
  {
   "attachments": {},
   "cell_type": "markdown",
   "metadata": {},
   "source": [
    "### Skip Some Statements Within Your Loop"
   ]
  },
  {
   "attachments": {},
   "cell_type": "markdown",
   "metadata": {},
   "source": [
    "###### Regardless of the type of loop, there will be situations where you will want to skip some of the iterations within your loop, or even terminate the loop prematurely.\n",
    "\n",
    "###### For example, you want to repeat something 10 times, but skip (at least partially) when the value is 2 or 5. In Python, to force the start of the next loop iteration, use the keyword continue"
   ]
  },
  {
   "cell_type": "code",
   "execution_count": 5,
   "metadata": {},
   "outputs": [
    {
     "name": "stdout",
     "output_type": "stream",
     "text": [
      "0\n",
      "i != 2 & i != 5\n",
      "1\n",
      "i != 2 & i != 5\n",
      "2\n",
      "Special case\n",
      "3\n",
      "i != 2 & i != 5\n",
      "4\n",
      "i != 2 & i != 5\n",
      "5\n",
      "Special case\n",
      "6\n",
      "i != 2 & i != 5\n",
      "7\n",
      "i != 2 & i != 5\n",
      "8\n",
      "i != 2 & i != 5\n",
      "9\n",
      "i != 2 & i != 5\n"
     ]
    }
   ],
   "source": [
    "for i in range(10):\n",
    "    # statements executed at each iteration\n",
    "    print(i)\n",
    "    if (i == 2) or (i == 5):\n",
    "        print(\"Special case\")\n",
    "        continue\n",
    "    # statements not executed if i == 2 or 5\n",
    "    print(\"i != 2 & i != 5\")"
   ]
  },
  {
   "attachments": {},
   "cell_type": "markdown",
   "metadata": {},
   "source": [
    "###### You can also decide to interrupt the loop, for example when looking for a particular item in a list. For this, you will use the   break  keyword"
   ]
  },
  {
   "cell_type": "code",
   "execution_count": 7,
   "metadata": {},
   "outputs": [
    {
     "name": "stdout",
     "output_type": "stream",
     "text": [
      "I have an orange!\n"
     ]
    }
   ],
   "source": [
    "basket = [\"apple\", \"orange\", \"banana\"]\n",
    "\n",
    "for fruit in basket:\n",
    "    if fruit == \"orange\":\n",
    "        print(\"I have an orange!\")\n",
    "        break"
   ]
  },
  {
   "attachments": {},
   "cell_type": "markdown",
   "metadata": {},
   "source": [
    "### Recap"
   ]
  },
  {
   "attachments": {},
   "cell_type": "markdown",
   "metadata": {},
   "source": [
    "In this chapter, you have discovered two types of loops:\n",
    "\n",
    "- The loop for repeating an action a certain number of times, or according to a sequence: the for loop.\n",
    "- The loop that allows you to repeat an action as long as a condition is true: the while loop.\n",
    "- There is a common mistake that you must not make with the while loop: the infinite loop!\n",
    "- You can choose to skip certain loop iterations via the continue keyword.\n",
    "- You can choose to skip certain loop iterations via the continue keyword.\n"
   ]
  }
 ],
 "metadata": {
  "kernelspec": {
   "display_name": "Python 3",
   "language": "python",
   "name": "python3"
  },
  "language_info": {
   "codemirror_mode": {
    "name": "ipython",
    "version": 3
   },
   "file_extension": ".py",
   "mimetype": "text/x-python",
   "name": "python",
   "nbconvert_exporter": "python",
   "pygments_lexer": "ipython3",
   "version": "3.8.16"
  },
  "orig_nbformat": 4,
  "vscode": {
   "interpreter": {
    "hash": "b2354bcfc66154c6598a017892b4dccb8581b900bc85ab1d0f6138be9b18dd18"
   }
  }
 },
 "nbformat": 4,
 "nbformat_minor": 2
}
