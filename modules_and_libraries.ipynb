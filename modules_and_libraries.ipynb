{
 "cells": [
  {
   "attachments": {},
   "cell_type": "markdown",
   "metadata": {},
   "source": [
    "# Familiarize Yourself With Python Modules and Libraries"
   ]
  },
  {
   "attachments": {},
   "cell_type": "markdown",
   "metadata": {},
   "source": [
    "###### Now, suppose you need to calculate the square root of a number in one of your notebooks. There is no native square root function in Python. You could of course write it yourself, but hey, there's probably been a bunch of people who have asked themselves the same question. And guess what? One of them has already written the function and saved it in a module"
   ]
  },
  {
   "attachments": {},
   "cell_type": "markdown",
   "metadata": {},
   "source": [
    "### A Module in Python"
   ]
  },
  {
   "attachments": {},
   "cell_type": "markdown",
   "metadata": {},
   "source": [
    "###### A module is a Python file containing a set of predefined and operational functions, classes, and variables, which you can use as you wish in your code!"
   ]
  },
  {
   "attachments": {},
   "cell_type": "markdown",
   "metadata": {},
   "source": [
    "For example, if you are working on a problem involving geometry, you might need:\n",
    "\n",
    "- **classes:**\n",
    "    - Square—defined by the length of its side\n",
    "    - Triangle—defined by the length of its three sides\n",
    "    - Circle—defined by its radius \n",
    "    - Etc.\n",
    "\n",
    "- **variables:**\n",
    "    - Pi: constant necessary for calculating the area of a circle, equal to 3.1415...\n",
    "    - Phi: constant that represents the golden ratio, equal to 1.6180...\n",
    "\n",
    "- **functions:**\n",
    "    - Area: takes as parameter a geometrical object (square, triangle, etc.) and calculates its area\n",
    "    - Angles: takes a triangle as a parameter, and calculates its internal angles\n",
    "    - Etc.\n",
    "\n",
    "###### You can of course define all these things in your notebook, but that would only make it more cumbersome. The best is to store all this in an external Python file, which you will then import into your notebook: it's a module!"
   ]
  },
  {
   "cell_type": "code",
   "execution_count": 5,
   "metadata": {},
   "outputs": [],
   "source": [
    "'''\n",
    "Module geometry.py\n",
    "'''\n",
    "# variables\n",
    "pi = 3.14159265359\n",
    "phi = 1.6180\n",
    "\n",
    "# function that calculates the area\n",
    "def area(obj):\n",
    "    if type(obj) == square:\n",
    "        return obj.a**2\n",
    "\n",
    "# definitions of some classes\n",
    "class square(object):\n",
    "    def __init__(self,a):\n",
    "        self.a = a\n",
    "\n",
    "class triangle(object):\n",
    "    def __init__(self,a,b,c):\n",
    "        self.a = a\n",
    "        self.b = b\n",
    "        self.c = c"
   ]
  },
  {
   "cell_type": "code",
   "execution_count": 6,
   "metadata": {},
   "outputs": [],
   "source": [
    "import numpy as np"
   ]
  },
  {
   "cell_type": "code",
   "execution_count": 9,
   "metadata": {},
   "outputs": [
    {
     "name": "stdout",
     "output_type": "stream",
     "text": [
      "2.0\n",
      "16\n",
      "3.141592653589793\n"
     ]
    }
   ],
   "source": [
    "sqrt = np.sqrt(4)\n",
    "squa = np.square(4)\n",
    "print(sqrt)\n",
    "print(squa)\n",
    "print(np.pi)\n"
   ]
  },
  {
   "attachments": {},
   "cell_type": "markdown",
   "metadata": {},
   "source": [
    "### Packages in Data Analysis"
   ]
  },
  {
   "attachments": {},
   "cell_type": "markdown",
   "metadata": {},
   "source": [
    "###### Packages are ubiquitous in data analysis with Python. Indeed, many packages have been created specifically to address the issues that this subject involves. As you progress, you will be required to:\n",
    "- manipulate your data to facilitate analysis.\n",
    "- make various relevant graphs representing the behavior of your data.\n",
    "- use statistical methods.\n",
    "- run machine learning algorithms of varying complexity.\n",
    "- Etc."
   ]
  }
 ],
 "metadata": {
  "kernelspec": {
   "display_name": "Python 3",
   "language": "python",
   "name": "python3"
  },
  "language_info": {
   "codemirror_mode": {
    "name": "ipython",
    "version": 3
   },
   "file_extension": ".py",
   "mimetype": "text/x-python",
   "name": "python",
   "nbconvert_exporter": "python",
   "pygments_lexer": "ipython3",
   "version": "3.8.15"
  },
  "orig_nbformat": 4,
  "vscode": {
   "interpreter": {
    "hash": "d5c7bf7b8684125057add5b6d5e267e1151d9993e72f41d4b1c1e4024c5e8d37"
   }
  }
 },
 "nbformat": 4,
 "nbformat_minor": 2
}
