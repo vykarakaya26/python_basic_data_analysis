{
 "cells": [
  {
   "attachments": {},
   "cell_type": "markdown",
   "metadata": {},
   "source": [
    "# Control Your Code With Conditional Structures\n"
   ]
  },
  {
   "attachments": {},
   "cell_type": "markdown",
   "metadata": {},
   "source": [
    "### Print Information if Available"
   ]
  },
  {
   "attachments": {},
   "cell_type": "markdown",
   "metadata": {},
   "source": [
    "###### When you start your program, you do not necessarily know the name of the user in advance. How about a program that can:\n",
    "- say hello to a particular user, if you know their name...\n",
    "- if not, continue to say hello to everyone?"
   ]
  },
  {
   "attachments": {},
   "cell_type": "markdown",
   "metadata": {},
   "source": [
    "##### How can you get a person's name in the first place?\n"
   ]
  },
  {
   "cell_type": "code",
   "execution_count": 1,
   "metadata": {},
   "outputs": [],
   "source": [
    "username = input('What is your name? ')"
   ]
  },
  {
   "attachments": {},
   "cell_type": "markdown",
   "metadata": {},
   "source": [
    "Now design the code that will let you say hello to your user:\n",
    "1. Ask the user their name and store their answer in a variable: name\n",
    "2. Check that the name variable definitely contains a value (in case the user doesn't give an answer). The len function will help you to perform this task!\n",
    "3. If this is the case, say Hello to your user with their name.\n",
    "4. Otherwise, keep saying Hello to the world. \n",
    "\n",
    "\n"
   ]
  },
  {
   "cell_type": "code",
   "execution_count": 4,
   "metadata": {},
   "outputs": [
    {
     "name": "stdout",
     "output_type": "stream",
     "text": [
      "Hello Yagiz !\n"
     ]
    }
   ],
   "source": [
    "name = input('What is your name?')\n",
    "\n",
    "if len(name) > 0:\n",
    "    print('Hello', name, '!')\n",
    "else:\n",
    "    print('Hello, world')"
   ]
  },
  {
   "cell_type": "code",
   "execution_count": 5,
   "metadata": {},
   "outputs": [
    {
     "name": "stdout",
     "output_type": "stream",
     "text": [
      "Hello, world\n"
     ]
    }
   ],
   "source": [
    "name = input('What is your name?')\n",
    "\n",
    "if len(name) > 0:\n",
    "    print('Hello', name, '!')\n",
    "else:\n",
    "    print('Hello, world')"
   ]
  },
  {
   "attachments": {},
   "cell_type": "markdown",
   "metadata": {},
   "source": [
    "### Use Booleans: The No-Half-Measure Type"
   ]
  },
  {
   "attachments": {},
   "cell_type": "markdown",
   "metadata": {},
   "source": [
    "###### In Python, to validate a condition, you use a special type (or object) called boolean. A Boolean variable can only contain two values: True or False. It's actually a pretty simple thing, but oh so useful!"
   ]
  },
  {
   "attachments": {},
   "cell_type": "markdown",
   "metadata": {},
   "source": [
    "###### In Python, the boolean can take the values True and False. Now see how to declare booleans in Python:\n",
    "\n"
   ]
  },
  {
   "cell_type": "code",
   "execution_count": 6,
   "metadata": {},
   "outputs": [],
   "source": [
    "thisCourseIsGreat = True\n",
    "itsAuthorIsVeryHumble = False"
   ]
  },
  {
   "attachments": {},
   "cell_type": "markdown",
   "metadata": {},
   "source": [
    "##### To get back to your if conditional structure, I think you'll understand, but it's absolutely necessary that what follows the if keyword results in a boolean. This can be done via:\n",
    "- a True or False value. For example, if True:\n",
    "- a boolean variable. For example, if myVariable: where myVariable is a boolean.\n",
    "- an expression that results in a boolean value, as in the example above.\n"
   ]
  },
  {
   "cell_type": "code",
   "execution_count": 8,
   "metadata": {},
   "outputs": [
    {
     "data": {
      "text/plain": [
       "True"
      ]
     },
     "execution_count": 8,
     "metadata": {},
     "output_type": "execute_result"
    }
   ],
   "source": [
    "# For example:\n",
    "weather = \"The weather is great!\"\n",
    "weather.startswith(\"The weather\") \n",
    "# startswith is a method of the string class, \n",
    "# which returns True when the string starts exactly with the string passed as a parameter; False, if not."
   ]
  },
  {
   "attachments": {},
   "cell_type": "markdown",
   "metadata": {},
   "source": [
    "### Comparison Operators\n",
    "\n"
   ]
  },
  {
   "attachments": {},
   "cell_type": "markdown",
   "metadata": {},
   "source": [
    "###### As the name suggests, comparison operators are used to compare two values. There are six main ones:\n",
    "\n",
    "- ' == '    --> equal to(two values are exactly the same)\n",
    "- ' != '    --> different from\n",
    "- ' <  '    --> less than\n",
    "- ' <= '    --> less than or equal to\n",
    "- ' >  '    --> greater than"
   ]
  },
  {
   "cell_type": "code",
   "execution_count": 9,
   "metadata": {},
   "outputs": [
    {
     "data": {
      "text/plain": [
       "True"
      ]
     },
     "execution_count": 9,
     "metadata": {},
     "output_type": "execute_result"
    }
   ],
   "source": [
    "2 == 2 # -> True\n",
    "2 == 3 # -> False\n",
    "4 != 4 # -> False\n",
    "4!= 5 # -> True\n",
    "1 < 2 # -> True\n",
    "1 < 1 # -> False\n",
    "1 <= 1 # -> True\n",
    "3 > 4 # -> False\n",
    "5 > 4 # -> True\n",
    "5 >= 4 # -> True"
   ]
  },
  {
   "cell_type": "code",
   "execution_count": 12,
   "metadata": {},
   "outputs": [],
   "source": [
    "age=15\n",
    "\n",
    "if age>=21:\n",
    "    # Do sth if age is greater than or equal to 21"
   ]
  },
  {
   "attachments": {},
   "cell_type": "markdown",
   "metadata": {},
   "source": [
    "### Logical Operators\n",
    "\n"
   ]
  },
  {
   "attachments": {},
   "cell_type": "markdown",
   "metadata": {},
   "source": [
    "##### These operators will let you mix several Boolean values: specific Boolean values or expression results. There are three of them\n",
    "- and : the AND operator\n",
    " ###### The final result is true only when all expressions/values are true. For example: the result of expression1 and expression2 will be True only if expression1 is true and expression2 is also true\n",
    " - or : the OR operator\n",
    " ###### The final result is true when at least one of the expressions/values is true. For example: the result of expression1 or expression2 will be at True if expression1 is true OR expression2 is true.\n",
    "- not : the NOT operator\n",
    "###### This simply reverses the result of the given expression. For example, the result of not(expression) is true when expression is false.\n",
    "\n"
   ]
  },
  {
   "cell_type": "code",
   "execution_count": 13,
   "metadata": {},
   "outputs": [
    {
     "data": {
      "text/plain": [
       "True"
      ]
     },
     "execution_count": 13,
     "metadata": {},
     "output_type": "execute_result"
    }
   ],
   "source": [
    "True and True # True\n",
    "True and False # False\n",
    "False and False # False\n",
    "True or False # True\n",
    "True or True # True\n",
    "False or False # False\n",
    "not(True) # False\n",
    "not(False) # True"
   ]
  },
  {
   "cell_type": "code",
   "execution_count": 14,
   "metadata": {},
   "outputs": [
    {
     "data": {
      "text/plain": [
       "False"
      ]
     },
     "execution_count": 14,
     "metadata": {},
     "output_type": "execute_result"
    }
   ],
   "source": [
    "# You can also mix more than two expressions/values\n",
    "True and True and True # True\n",
    "True and True and False # False\n",
    "True or False or False # True\n",
    "False or False or False # False"
   ]
  },
  {
   "cell_type": "code",
   "execution_count": 15,
   "metadata": {},
   "outputs": [
    {
     "data": {
      "text/plain": [
       "True"
      ]
     },
     "execution_count": 15,
     "metadata": {},
     "output_type": "execute_result"
    }
   ],
   "source": [
    "# As with numeric operations, logical operators respect the priorities of operations: the not operator is applied first, then the and operator, then the or operator.\n",
    "# For example:\n",
    "False or True and True # True\n",
    "not(False) and True or False # True"
   ]
  },
  {
   "cell_type": "code",
   "execution_count": 16,
   "metadata": {},
   "outputs": [
    {
     "data": {
      "text/plain": [
       "True"
      ]
     },
     "execution_count": 16,
     "metadata": {},
     "output_type": "execute_result"
    }
   ],
   "source": [
    "# You can also use parentheses to change the order:\n",
    "\n",
    "(True and False) or True # True\n",
    "not(True and False or not(True)) # True"
   ]
  },
  {
   "attachments": {},
   "cell_type": "markdown",
   "metadata": {},
   "source": [
    "#### The  in  Operator\n",
    "\n"
   ]
  },
  {
   "attachments": {},
   "cell_type": "markdown",
   "metadata": {},
   "source": [
    "###### Another useful logical operator in Python is the **in** operator. This returns **True** when a value is found in a sequence(a str or a list); **False**, if not."
   ]
  },
  {
   "cell_type": "code",
   "execution_count": 17,
   "metadata": {},
   "outputs": [
    {
     "data": {
      "text/plain": [
       "False"
      ]
     },
     "execution_count": 17,
     "metadata": {},
     "output_type": "execute_result"
    }
   ],
   "source": [
    "myList = [4, 2, 3, 2, 10]\n",
    "myStringList = [\"a\", \"b\", \"c\", \"d\"]\n",
    "myString = \"The weather is really good today!\"\n",
    "\n",
    "4 in myList # True\n",
    "0 in myList # False\n",
    "0 in myStringList # False\n",
    "\"c\" in myStringList # True\n",
    "\"e\" in myStringList # False\n",
    "\"weather\" in myString # True\n",
    "\"really\" in myString # True\n",
    "\"rain?\" in myString # False"
   ]
  },
  {
   "attachments": {},
   "cell_type": "markdown",
   "metadata": {},
   "source": [
    "### Manage a Chain of Conditions"
   ]
  },
  {
   "attachments": {},
   "cell_type": "markdown",
   "metadata": {},
   "source": [
    "To grant a loan, a bank relies (among other things) on the status of its users' accounts. For example, a naive decision rule might be:\n",
    "\n",
    "- if the customer has more than $10,000 in their account, they are automatically approved for their loan.\n",
    "- if they have, have between $100 and $10,000, we need to manually approve their application\n",
    "- otherwise, the request is denied"
   ]
  },
  {
   "attachments": {},
   "cell_type": "markdown",
   "metadata": {},
   "source": [
    "###### We could use two nested **if** statements, but Python can link several conditions thanks to the keyword **elif**(contraction of else and if).\n",
    "\n"
   ]
  },
  {
   "cell_type": "code",
   "execution_count": 19,
   "metadata": {},
   "outputs": [
    {
     "name": "stdout",
     "output_type": "stream",
     "text": [
      "Loan in process of validation: under study\n"
     ]
    }
   ],
   "source": [
    "account = input(\"What is your account balance?\")\n",
    "account = int(account) # transform the answer into an integer\n",
    "\n",
    "if account >= 10000:\n",
    "    print(\"Loan granted!\")\n",
    "elif account >= 100 and account < 10000:\n",
    "    print(\"Loan in process of validation: under study\")\n",
    "else:\n",
    "    print(\"Loan refused\")"
   ]
  },
  {
   "attachments": {},
   "cell_type": "markdown",
   "metadata": {},
   "source": [
    "### Recap"
   ]
  },
  {
   "attachments": {},
   "cell_type": "markdown",
   "metadata": {},
   "source": [
    "- Conditions let you execute a block of code when a **Boolean**, **variable**, or **expression** is true (True).\n",
    "- Expressions use **Boolean arithmetic**, including **logical operators** and **comparison operators**.\n",
    "- You can apply several conditions with **if/elif/else** chains.\n"
   ]
  }
 ],
 "metadata": {
  "kernelspec": {
   "display_name": "Python 3",
   "language": "python",
   "name": "python3"
  },
  "language_info": {
   "codemirror_mode": {
    "name": "ipython",
    "version": 3
   },
   "file_extension": ".py",
   "mimetype": "text/x-python",
   "name": "python",
   "nbconvert_exporter": "python",
   "pygments_lexer": "ipython3",
   "version": "3.8.15"
  },
  "orig_nbformat": 4,
  "vscode": {
   "interpreter": {
    "hash": "d5c7bf7b8684125057add5b6d5e267e1151d9993e72f41d4b1c1e4024c5e8d37"
   }
  }
 },
 "nbformat": 4,
 "nbformat_minor": 2
}
