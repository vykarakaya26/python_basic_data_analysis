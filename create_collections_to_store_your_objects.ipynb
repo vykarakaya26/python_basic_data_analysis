{
 "cells": [
  {
   "attachments": {},
   "cell_type": "markdown",
   "metadata": {},
   "source": [
    "# Create Collections to Store Your Objects"
   ]
  },
  {
   "attachments": {},
   "cell_type": "markdown",
   "metadata": {},
   "source": [
    "###### Imagine again that you work in a bank. If you want to analyze several customers at once, you can imagine that you need a variable for each customer. For the names, this could look like this:"
   ]
  },
  {
   "cell_type": "code",
   "execution_count": 29,
   "metadata": {},
   "outputs": [],
   "source": [
    "customerName1 = 'Marion Weaver'\n",
    "customerName2 = 'Alberto Mendoza'\n",
    "customerName3 = 'Katharine Tyler'\n",
    "customerName4 = 'Isaac Steele'"
   ]
  },
  {
   "attachments": {},
   "cell_type": "markdown",
   "metadata": {},
   "source": [
    "###### If you have 10 customers to analyze, wouldn't it be easier to store them all in *a single variable that would contain all the information*? Python offers a structure, a class capable of storing multiple pieces of information as a kind of array. This structure is called a *list*."
   ]
  },
  {
   "attachments": {},
   "cell_type": "markdown",
   "metadata": {},
   "source": [
    "### Declare a List to Store Your Items"
   ]
  },
  {
   "attachments": {},
   "cell_type": "markdown",
   "metadata": {},
   "source": [
    "###### Lists are objects that can contain a collection of objects of any type.  We can have a list containing several integers (1, 2, 50, 2,000 or more, it doesn't matter), a list containing floats, a list containing strings, or even a list mixing objects of different types\n",
    "\n",
    "###### Lists are ordered objects, i.e., each item of the list is associated with a number corresponding to its order in the list. This number is called an index and it starts at 0 (not 1!). The first item is therefore associated with index 0, the second with index 1, etc.\n",
    "\n",
    "###### Declaring a list is quite similar to the declaration of any variable seen so far: via a name to which we associate a list of items to be stored in this name."
   ]
  },
  {
   "cell_type": "code",
   "execution_count": 30,
   "metadata": {},
   "outputs": [],
   "source": [
    "customerName = ['Marion Weaver', 'Alberto Mendoza', 'Katharine Tyler', 'Isaac Steele']\n",
    "\n",
    "#Access a value a random index \n",
    "#Change the value a random index"
   ]
  },
  {
   "cell_type": "code",
   "execution_count": 31,
   "metadata": {},
   "outputs": [],
   "source": [
    "customerName[0] = 'Marianne Weaver'"
   ]
  },
  {
   "cell_type": "code",
   "execution_count": 32,
   "metadata": {},
   "outputs": [
    {
     "name": "stdout",
     "output_type": "stream",
     "text": [
      "Marianne Weaver\n"
     ]
    }
   ],
   "source": [
    "print(customerName[0])"
   ]
  },
  {
   "cell_type": "code",
   "execution_count": 33,
   "metadata": {},
   "outputs": [
    {
     "name": "stdout",
     "output_type": "stream",
     "text": [
      "Isaac Steele\n",
      "['Alberto Mendoza', 'Katharine Tyler']\n",
      "['Marianne Weaver', 'Alberto Mendoza']\n"
     ]
    }
   ],
   "source": [
    "#print the last item\n",
    "print(customerName[-1])\n",
    "\n",
    "#access the second item to the 3rd\n",
    "print(customerName[1:3])\n",
    "\n",
    "# access all items from the beginning to the second\n",
    "print(customerName[:2])"
   ]
  },
  {
   "attachments": {},
   "cell_type": "markdown",
   "metadata": {},
   "source": [
    "#### List Methods"
   ]
  },
  {
   "cell_type": "code",
   "execution_count": 34,
   "metadata": {},
   "outputs": [
    {
     "name": "stdout",
     "output_type": "stream",
     "text": [
      "[7, 5]\n"
     ]
    }
   ],
   "source": [
    "#Create an empty list and then add the items one by one via append method:\n",
    "\n",
    "list = [] # creates an empty list\n",
    "\n",
    "list.append(7) #then add the integer 7 to the end of the list. So Python will add it to index 0\n",
    "\n",
    "list.append(5) #add the integer 5, which will be stored at the next index, which is index 1\n",
    "\n",
    "print(list)"
   ]
  },
  {
   "attachments": {},
   "cell_type": "markdown",
   "metadata": {},
   "source": [
    "##### Here are some other methods that are essential to know about lists:\n",
    "\n",
    "###### *insert*: to insert a new item at a specific position.\n",
    "\n",
    "###### *extend*: similar to append, but with another list. This allows you to concatenate several lists together.\n",
    "\n",
    "###### *remove*: searches for the given item in the list and deletes the first occurrence. \n"
   ]
  },
  {
   "cell_type": "code",
   "execution_count": 35,
   "metadata": {},
   "outputs": [
    {
     "name": "stdout",
     "output_type": "stream",
     "text": [
      "[7]\n",
      "[7, 5]\n",
      "[7, 12, 5]\n",
      "[4, 12, 5]\n",
      "[4, 5]\n",
      "[4, 5]\n",
      "[4, 5, 1, 3]\n"
     ]
    }
   ],
   "source": [
    "list = []\n",
    "list.append(7) \n",
    "print(list)\n",
    "\n",
    "list.append(5) \n",
    "print(list)\n",
    "# The first three lines correspond to what was seen before\n",
    "list.insert(1,12) # add 12 to index 1. The value that was in position 1 is moved to position 2\n",
    "print(list)\n",
    "\n",
    "list[0] = 4 # replace the value at index 0 with 4.\n",
    "print(list)\n",
    "\n",
    "list.remove(12) # remove the integer 12 from our list.\n",
    "print(list)\n",
    "\n",
    "list.index(5) # ask for the index of the first item 5 in our list\n",
    "print(list)\n",
    "\n",
    "list.extend([1, 2, 3]) # add the list 1, 2, 3 after our initial list\n",
    "del list[3] # delete the item located at position 4 in our list.\n",
    "print(list)"
   ]
  },
  {
   "cell_type": "code",
   "execution_count": 36,
   "metadata": {},
   "outputs": [
    {
     "data": {
      "text/plain": [
       "3"
      ]
     },
     "execution_count": 36,
     "metadata": {},
     "output_type": "execute_result"
    }
   ],
   "source": [
    "list = [1, 2, 3]\n",
    "len(list)"
   ]
  },
  {
   "attachments": {},
   "cell_type": "markdown",
   "metadata": {},
   "source": [
    "### Use Dictionaries"
   ]
  },
  {
   "attachments": {},
   "cell_type": "markdown",
   "metadata": {},
   "source": [
    "###### Dictionaries are another type of object, similar to lists, but which will let you do this with a single variable! Indeed, a dictionary is a list of items organized via a system of keys. With a real dictionary, you look up a word to access its definition. In programming, this word corresponds to the key and the definition to the value associated with it. This is called a key-value pair.\n",
    "\n",
    "###### Each key in a dictionary must be unique. Strings are generally used to define keys, but this is not a requirement, per se.\n",
    "\n"
   ]
  },
  {
   "attachments": {},
   "cell_type": "markdown",
   "metadata": {},
   "source": [
    "#### Declare a Dictionary\n",
    "\n"
   ]
  },
  {
   "attachments": {},
   "cell_type": "markdown",
   "metadata": {},
   "source": [
    "###### Lists and dictionaries are declared in a similar way, except that a dictionary uses curly brackets instead of square brackets, and key-value pairs must be declared"
   ]
  },
  {
   "cell_type": "code",
   "execution_count": 37,
   "metadata": {},
   "outputs": [
    {
     "name": "stdout",
     "output_type": "stream",
     "text": [
      "150\n"
     ]
    }
   ],
   "source": [
    "accounts = {'Marion Weaver': 10000, \n",
    "            'Alberto Mendoza': 150,\n",
    "            'Katharine Tyler': 300, \n",
    "            'Isaac Steele': 1800.74}\n",
    "\n",
    "print(accounts['Alberto Mendoza'])#print the value associated with the key \"Alberto Mendoza\""
   ]
  },
  {
   "attachments": {},
   "cell_type": "markdown",
   "metadata": {},
   "source": [
    "#### Manipulate the Items of a Dictionary"
   ]
  },
  {
   "attachments": {},
   "cell_type": "markdown",
   "metadata": {},
   "source": [
    "###### Here are the operations frequently carried out with dictionaries:\n",
    "- **Access** the value of an item\n",
    "- **Add** a new item (a new key-value pair)\n",
    "- **Delete** an item via its key\n"
   ]
  },
  {
   "attachments": {},
   "cell_type": "markdown",
   "metadata": {},
   "source": [
    "###### A value can be accessed or modified using the same notation as with lists. With dictionaries, unlike lists, this notation even lets you add items."
   ]
  },
  {
   "cell_type": "code",
   "execution_count": 38,
   "metadata": {},
   "outputs": [
    {
     "name": "stdout",
     "output_type": "stream",
     "text": [
      "1000\n"
     ]
    }
   ],
   "source": [
    "accounts['Marion Weaver'] -= 2000 # subtract 2000 from David's account\n",
    "accounts['Kristian Roach'] = 1000 # add a new individual in my dictionary\n",
    "print(accounts['Kristian Roach']) # print the value of Kristian's account"
   ]
  },
  {
   "cell_type": "code",
   "execution_count": 39,
   "metadata": {},
   "outputs": [
    {
     "data": {
      "text/plain": [
       "5"
      ]
     },
     "execution_count": 39,
     "metadata": {},
     "output_type": "execute_result"
    }
   ],
   "source": [
    "len(accounts)"
   ]
  },
  {
   "cell_type": "code",
   "execution_count": 40,
   "metadata": {},
   "outputs": [
    {
     "data": {
      "text/plain": [
       "150"
      ]
     },
     "execution_count": 40,
     "metadata": {},
     "output_type": "execute_result"
    }
   ],
   "source": [
    "accounts.pop('Alberto Mendoza') # deletes Alberto Mendoza from our dictionary"
   ]
  },
  {
   "cell_type": "code",
   "execution_count": 27,
   "metadata": {},
   "outputs": [
    {
     "data": {
      "text/plain": [
       "4"
      ]
     },
     "execution_count": 27,
     "metadata": {},
     "output_type": "execute_result"
    }
   ],
   "source": [
    "len(accounts)"
   ]
  },
  {
   "attachments": {},
   "cell_type": "markdown",
   "metadata": {},
   "source": [
    "### Immutable Tuples"
   ]
  },
  {
   "attachments": {},
   "cell_type": "markdown",
   "metadata": {},
   "source": [
    "###### The last type of collection we will look at are tuples. These are very similar to lists:\n",
    "- They are ordered objects, so we can access the different items stored in a tuple from their index.\n",
    "- You can store any kind of object in a tuple.\n"
   ]
  },
  {
   "attachments": {},
   "cell_type": "markdown",
   "metadata": {},
   "source": [
    "We can't modify a tuple? So what's the point of it?!\n",
    "\n",
    "###### They might not seem to provide much benefit at first sight, but they can be used:\n",
    "- when you want to make sure that data is not modified within a program\n",
    "- to return several values from a function\n",
    "- to declare several variables in one line.\n"
   ]
  },
  {
   "attachments": {},
   "cell_type": "markdown",
   "metadata": {},
   "source": [
    "#### Declare a Tuple\n",
    "\n"
   ]
  },
  {
   "cell_type": "code",
   "execution_count": 41,
   "metadata": {},
   "outputs": [],
   "source": [
    "my_tuple = (1, 2, 3, 'a', 'b')"
   ]
  },
  {
   "attachments": {},
   "cell_type": "markdown",
   "metadata": {},
   "source": [
    "#### Manipulate Tuples\n",
    "\n"
   ]
  },
  {
   "cell_type": "code",
   "execution_count": 42,
   "metadata": {},
   "outputs": [
    {
     "name": "stdout",
     "output_type": "stream",
     "text": [
      "2\n",
      "b\n"
     ]
    }
   ],
   "source": [
    "print(my_tuple[1]) \n",
    "print(my_tuple[4]) "
   ]
  },
  {
   "cell_type": "code",
   "execution_count": 43,
   "metadata": {},
   "outputs": [
    {
     "name": "stdout",
     "output_type": "stream",
     "text": [
      "1\n",
      "apple\n"
     ]
    }
   ],
   "source": [
    "a, b = (1, 'apple')\n",
    "print(a) \n",
    "print(b) "
   ]
  },
  {
   "cell_type": "code",
   "execution_count": 46,
   "metadata": {},
   "outputs": [
    {
     "ename": "TypeError",
     "evalue": "'tuple' object does not support item assignment",
     "output_type": "error",
     "traceback": [
      "\u001b[0;31m---------------------------------------------------------------------------\u001b[0m",
      "\u001b[0;31mTypeError\u001b[0m                                 Traceback (most recent call last)",
      "Cell \u001b[0;32mIn[46], line 2\u001b[0m\n\u001b[1;32m      1\u001b[0m my_tuple \u001b[39m=\u001b[39m (\u001b[39m1\u001b[39m, \u001b[39m2\u001b[39m, \u001b[39m3\u001b[39m, \u001b[39m'\u001b[39m\u001b[39ma\u001b[39m\u001b[39m'\u001b[39m, \u001b[39m'\u001b[39m\u001b[39mb\u001b[39m\u001b[39m'\u001b[39m)\n\u001b[0;32m----> 2\u001b[0m my_tuple[\u001b[39m2\u001b[39;49m] \u001b[39m=\u001b[39m \u001b[39m4\u001b[39m\n\u001b[1;32m      3\u001b[0m \u001b[39m# you will get an error if you try to modify your tuple in any way\u001b[39;00m\n",
      "\u001b[0;31mTypeError\u001b[0m: 'tuple' object does not support item assignment"
     ]
    }
   ],
   "source": [
    "my_tuple = (1, 2, 3, 'a', 'b')\n",
    "my_tuple[2] = 4\n",
    "# you will get an error if you try to modify your tuple in any way\n",
    "\n"
   ]
  },
  {
   "attachments": {},
   "cell_type": "markdown",
   "metadata": {},
   "source": [
    "### Recap"
   ]
  },
  {
   "attachments": {},
   "cell_type": "markdown",
   "metadata": {},
   "source": [
    "- Lists: an ordered, editable collection where each item is associated with an index\n",
    "- Dictionaries: an unordered, editable collection where each item is associated with a key\n",
    "- Tuples: an ordered, non-mutable collection , where each item is associated with an index\n",
    "- The most common actions performed with lists and dictionaries are:\n",
    "    - Access an item\n",
    "    - Add an item\n",
    "    - Delete an item\n",
    "    - Modify an item\n",
    "    - Count the number of items stored\n",
    "- We can perform these different actions via methods."
   ]
  }
 ],
 "metadata": {
  "kernelspec": {
   "display_name": "Python 3",
   "language": "python",
   "name": "python3"
  },
  "language_info": {
   "codemirror_mode": {
    "name": "ipython",
    "version": 3
   },
   "file_extension": ".py",
   "mimetype": "text/x-python",
   "name": "python",
   "nbconvert_exporter": "python",
   "pygments_lexer": "ipython3",
   "version": "3.8.15"
  },
  "orig_nbformat": 4,
  "vscode": {
   "interpreter": {
    "hash": "d5c7bf7b8684125057add5b6d5e267e1151d9993e72f41d4b1c1e4024c5e8d37"
   }
  }
 },
 "nbformat": 4,
 "nbformat_minor": 2
}
