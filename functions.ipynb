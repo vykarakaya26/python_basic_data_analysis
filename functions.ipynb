{
 "cells": [
  {
   "attachments": {},
   "cell_type": "markdown",
   "metadata": {},
   "source": [
    "# FUNCTIONS"
   ]
  },
  {
   "attachments": {},
   "cell_type": "markdown",
   "metadata": {},
   "source": [
    "### Discover Functions"
   ]
  },
  {
   "attachments": {},
   "cell_type": "markdown",
   "metadata": {},
   "source": [
    "###### One of the fundamental principles for any computer programmer is to **get maximum results for minumum effort.**\n",
    "\n",
    "###### Functions, **can group several statements in a block which will be called using a name**"
   ]
  },
  {
   "attachments": {},
   "cell_type": "markdown",
   "metadata": {},
   "source": [
    "###### There are many pre-existing functions in Python! In addition to those already seen, there are, for example:\n",
    "\n",
    "> len() :  a function that returns the length of an item. Do you remember strings? Using this function on a string tells you how many characters the string contains.\n",
    "\n",
    "> type() : lets you print the type of a variable.\n",
    "\n",
    "> pow(a, b) : lets you calculate a to the power of b. It is equal to a**b\n",
    "\n",
    "> abs() :  returns the absolute value of a number"
   ]
  },
  {
   "cell_type": "code",
   "execution_count": 2,
   "metadata": {},
   "outputs": [
    {
     "name": "stdout",
     "output_type": "stream",
     "text": [
      "6\n",
      "<class 'str'>\n",
      "9\n",
      "100\n"
     ]
    }
   ],
   "source": [
    "x = 'fruits'\n",
    "print(len(x))\n",
    "print(type(x))\n",
    "print(pow(3, 2))\n",
    "print(abs(-100))"
   ]
  },
  {
   "attachments": {},
   "cell_type": "markdown",
   "metadata": {},
   "source": [
    "### Write Your Own Functions"
   ]
  },
  {
   "attachments": {},
   "cell_type": "markdown",
   "metadata": {},
   "source": [
    "###### Now suppose you are asked to develop a program involving geometry. You have to use a lot of triangles for which you have the length of the three sides, and you want to print their perimeter. You could, of course, do this for each triangle by hand, but remember: you want maximum results for the least amount of effort. So, you are going to create a function that will print the perimeter of a triangle according to the length of its sides!"
   ]
  },
  {
   "cell_type": "code",
   "execution_count": 6,
   "metadata": {},
   "outputs": [
    {
     "data": {
      "text/plain": [
       "10"
      ]
     },
     "execution_count": 6,
     "metadata": {},
     "output_type": "execute_result"
    }
   ],
   "source": [
    "def Perimeter(dimension1, dimension2, dimension3):\n",
    "    perimeter = dimension1 + dimension2 + dimension3\n",
    "    return perimeter\n",
    "\n",
    "Perimeter(2, 3, 5)"
   ]
  },
  {
   "attachments": {},
   "cell_type": "markdown",
   "metadata": {},
   "source": [
    "#### Bonus: help()\n",
    "\n",
    "###### If you run help(), this will print the documentation of this function, summarizing:\n",
    "- its purpose\n",
    "- recommendations for use\n",
    "- list and description of the parameters\n",
    "- sometimes even examples\n",
    "\n",
    "\n"
   ]
  },
  {
   "cell_type": "code",
   "execution_count": 7,
   "metadata": {},
   "outputs": [
    {
     "name": "stdout",
     "output_type": "stream",
     "text": [
      "Help on built-in function print in module builtins:\n",
      "\n",
      "print(...)\n",
      "    print(value, ..., sep=' ', end='\\n', file=sys.stdout, flush=False)\n",
      "    \n",
      "    Prints the values to a stream, or to sys.stdout by default.\n",
      "    Optional keyword arguments:\n",
      "    file:  a file-like object (stream); defaults to the current sys.stdout.\n",
      "    sep:   string inserted between values, default a space.\n",
      "    end:   string appended after the last value, default a newline.\n",
      "    flush: whether to forcibly flush the stream.\n",
      "\n"
     ]
    }
   ],
   "source": [
    "help(print)"
   ]
  },
  {
   "attachments": {},
   "cell_type": "markdown",
   "metadata": {},
   "source": [
    "### Recap:"
   ]
  },
  {
   "attachments": {},
   "cell_type": "markdown",
   "metadata": {},
   "source": [
    "- functions can have parameters and return values.\n",
    "\n",
    "- a return value is the result of running the function. The return value is returned to the code that called the function, to be used as needed\n",
    "\n",
    "- the **parameters** are the data necessary for a function to be run and generate a result\n",
    "\n",
    "- parameters are variables defined by a **name**. Parameters are **specified in the function declaration**.\n",
    "\n",
    "- when using a function, you pass it different values as parameters. These values are called **arguments**.\n"
   ]
  }
 ],
 "metadata": {
  "kernelspec": {
   "display_name": "Python 3",
   "language": "python",
   "name": "python3"
  },
  "language_info": {
   "codemirror_mode": {
    "name": "ipython",
    "version": 3
   },
   "file_extension": ".py",
   "mimetype": "text/x-python",
   "name": "python",
   "nbconvert_exporter": "python",
   "pygments_lexer": "ipython3",
   "version": "3.8.15"
  },
  "orig_nbformat": 4,
  "vscode": {
   "interpreter": {
    "hash": "d5c7bf7b8684125057add5b6d5e267e1151d9993e72f41d4b1c1e4024c5e8d37"
   }
  }
 },
 "nbformat": 4,
 "nbformat_minor": 2
}
